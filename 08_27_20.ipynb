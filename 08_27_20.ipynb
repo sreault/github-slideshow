{
  "nbformat": 4,
  "nbformat_minor": 0,
  "metadata": {
    "colab": {
      "name": "08_27_20.ipynb",
      "provenance": [],
      "collapsed_sections": [],
      "authorship_tag": "ABX9TyPQU1ZJinZlYNh0tkJz8uAy",
      "include_colab_link": true
    },
    "kernelspec": {
      "name": "python3",
      "display_name": "Python 3"
    }
  },
  "cells": [
    {
      "cell_type": "markdown",
      "metadata": {
        "id": "view-in-github",
        "colab_type": "text"
      },
      "source": [
        "<a href=\"https://colab.research.google.com/github/sreault/github-slideshow/blob/master/08_27_20.ipynb\" target=\"_parent\"><img src=\"https://colab.research.google.com/assets/colab-badge.svg\" alt=\"Open In Colab\"/></a>"
      ]
    },
    {
      "cell_type": "code",
      "metadata": {
        "id": "w5rbE6neR5iX",
        "colab_type": "code",
        "colab": {}
      },
      "source": [
        ""
      ],
      "execution_count": null,
      "outputs": []
    },
    {
      "cell_type": "code",
      "metadata": {
        "id": "Oe8M8YurZBBv",
        "colab_type": "code",
        "colab": {}
      },
      "source": [
        ""
      ],
      "execution_count": null,
      "outputs": []
    },
    {
      "cell_type": "markdown",
      "metadata": {
        "id": "9NsJgtodY_U7",
        "colab_type": "text"
      },
      "source": [
        "**VARIABLES AND VALUES**"
      ]
    },
    {
      "cell_type": "markdown",
      "metadata": {
        "id": "TbbG4hi5WtbP",
        "colab_type": "text"
      },
      "source": [
        "value--> basic thibg program WORKS WITH. \n",
        "  - different types:\n",
        "    - integers (#), floats (decimals), strings\n",
        "\n",
        "variable--> refers to a value; in n = 17, n is the variable\n",
        "operator---> symbols that represent a computation, + or*\n",
        "expression-> combination of values, variables and operators\n",
        "\n",
        "statement-> unit of code that a python interpreter can execute. ex in print(\"hello world\") \"print\" os the statement and in the my_salary = 250, my_salary is hte statement\n",
        "\n",
        "\n"
      ]
    },
    {
      "cell_type": "code",
      "metadata": {
        "id": "DMcYryd0X9wC",
        "colab_type": "code",
        "colab": {
          "base_uri": "https://localhost:8080/",
          "height": 34
        },
        "outputId": "a47b68b0-66a8-4fd0-effd-3ad38b3dc068"
      },
      "source": [
        "print(\"hello world\")\n"
      ],
      "execution_count": null,
      "outputs": [
        {
          "output_type": "stream",
          "text": [
            "hello world\n"
          ],
          "name": "stdout"
        }
      ]
    },
    {
      "cell_type": "markdown",
      "metadata": {
        "id": "gmGBdCSNYKI3",
        "colab_type": "text"
      },
      "source": [
        "exercise"
      ]
    },
    {
      "cell_type": "code",
      "metadata": {
        "id": "-rJzJo71YOzI",
        "colab_type": "code",
        "colab": {}
      },
      "source": [
        "# this is a comment\n",
        "message = \"Python version 3 is so much better than version 2\"\n",
        "# message is a string type\n",
        "n = 17\n",
        "pi = 3.14159\n",
        "#run code and see what happened\n",
        "# nothing happened because we did not ask for an output\n"
      ],
      "execution_count": null,
      "outputs": []
    },
    {
      "cell_type": "code",
      "metadata": {
        "id": "jle7ADtEYuCb",
        "colab_type": "code",
        "colab": {
          "base_uri": "https://localhost:8080/",
          "height": 68
        },
        "outputId": "005af249-1103-41b2-84e0-86eeb6dcf8b5"
      },
      "source": [
        "print(message)\n",
        "print(n)\n",
        "print(pi)\n",
        "#now it will print the variables created above\n"
      ],
      "execution_count": null,
      "outputs": [
        {
          "output_type": "stream",
          "text": [
            "Python version 3 is so much better than version 2\n",
            "17\n",
            "3.14159\n"
          ],
          "name": "stdout"
        }
      ]
    },
    {
      "cell_type": "code",
      "metadata": {
        "id": "pzLH-c3HZQR4",
        "colab_type": "code",
        "colab": {
          "base_uri": "https://localhost:8080/",
          "height": 34
        },
        "outputId": "45df0a43-1ac7-476e-c24f-0ea460bb0fa8"
      },
      "source": [
        "type(message)\n",
        "#tells what the data type of the variables is\n",
        "type(n)\n",
        "type(pi)\n",
        "\n",
        "\n"
      ],
      "execution_count": null,
      "outputs": [
        {
          "output_type": "execute_result",
          "data": {
            "text/plain": [
              "float"
            ]
          },
          "metadata": {
            "tags": []
          },
          "execution_count": 8
        }
      ]
    },
    {
      "cell_type": "code",
      "metadata": {
        "id": "5v8gs2YhddPx",
        "colab_type": "code",
        "colab": {
          "base_uri": "https://localhost:8080/",
          "height": 34
        },
        "outputId": "2e82d6f0-6f8c-495b-e9ac-69ae5c80cfa9"
      },
      "source": [
        "n = 4\n",
        "o = 2\n",
        "p = n+ o \n",
        "print(p)"
      ],
      "execution_count": null,
      "outputs": [
        {
          "output_type": "stream",
          "text": [
            "6\n"
          ],
          "name": "stdout"
        }
      ]
    },
    {
      "cell_type": "code",
      "metadata": {
        "id": "4n-YpPuSdosP",
        "colab_type": "code",
        "colab": {
          "base_uri": "https://localhost:8080/",
          "height": 34
        },
        "outputId": "c0b10fda-19dd-4048-97d7-72c66d749312"
      },
      "source": [
        "n = \"4\"\n",
        "#this makes it a string\n",
        "o = \"2\"\n",
        "type(o)\n"
      ],
      "execution_count": null,
      "outputs": [
        {
          "output_type": "execute_result",
          "data": {
            "text/plain": [
              "str"
            ]
          },
          "metadata": {
            "tags": []
          },
          "execution_count": 15
        }
      ]
    },
    {
      "cell_type": "code",
      "metadata": {
        "id": "Kd8g770Zd2vN",
        "colab_type": "code",
        "colab": {}
      },
      "source": [
        "print(p)\n",
        "#shoud concatenate them....not sure why it isnt\n",
        "\n"
      ],
      "execution_count": null,
      "outputs": []
    },
    {
      "cell_type": "code",
      "metadata": {
        "id": "-Qumed-neTSu",
        "colab_type": "code",
        "colab": {
          "base_uri": "https://localhost:8080/",
          "height": 34
        },
        "outputId": "8ddf2ac7-4394-463f-a246-c0d60a320a0f"
      },
      "source": [
        "t = \"4\"\n",
        "r = \"2\"\n",
        "c = t+r \n",
        "print(c)\n",
        "#did it correctly here \n"
      ],
      "execution_count": null,
      "outputs": [
        {
          "output_type": "stream",
          "text": [
            "42\n"
          ],
          "name": "stdout"
        }
      ]
    },
    {
      "cell_type": "markdown",
      "metadata": {
        "id": "psCeVlAxeJ33",
        "colab_type": "text"
      },
      "source": [
        "**Good vairable syntax**\n",
        "1. make it meaningful and document what the variable is used for\n",
        "2. must be \"legal\"; not key words that already exist\n",
        "- python best practices\n",
        "    - variables names are case sensitive\n",
        "    - formatted starting with letter A to Z and underscore, then more letters, then number \n",
        "    - good example: distance_traveled_miles"
      ]
    }
  ]
}